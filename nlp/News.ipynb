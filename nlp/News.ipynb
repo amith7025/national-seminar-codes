{
  "nbformat": 4,
  "nbformat_minor": 0,
  "metadata": {
    "colab": {
      "provenance": []
    },
    "kernelspec": {
      "name": "python3",
      "display_name": "Python 3"
    },
    "language_info": {
      "name": "python"
    }
  },
  "cells": [
    {
      "cell_type": "markdown",
      "source": [
        "# It is a simple News classification model\n",
        "\n",
        "\n",
        "lets import the modules we need"
      ],
      "metadata": {
        "id": "hdKaPsuDEeF-"
      }
    },
    {
      "cell_type": "code",
      "source": [
        "import pandas as pd\n",
        "import spacy\n",
        "from sklearn.model_selection import train_test_split\n",
        "import numpy as np\n",
        "from sklearn.naive_bayes import MultinomialNB\n",
        "from sklearn.preprocessing import MinMaxScaler\n",
        "from sklearn.metrics import classification_report"
      ],
      "metadata": {
        "id": "rbAYnhJ0ESkZ"
      },
      "execution_count": null,
      "outputs": []
    },
    {
      "cell_type": "code",
      "source": [
        "df = pd.read_csv('/content/Fake_Real_Data.csv')\n",
        "df.head()"
      ],
      "metadata": {
        "colab": {
          "base_uri": "https://localhost:8080/",
          "height": 206
        },
        "id": "YYPTbAGHEqJE",
        "outputId": "d42977ac-3e82-415a-9ca6-954d75461220"
      },
      "execution_count": null,
      "outputs": [
        {
          "output_type": "execute_result",
          "data": {
            "text/plain": [
              "                                                Text label\n",
              "0   Top Trump Surrogate BRUTALLY Stabs Him In The...  Fake\n",
              "1  U.S. conservative leader optimistic of common ...  Real\n",
              "2  Trump proposes U.S. tax overhaul, stirs concer...  Real\n",
              "3   Court Forces Ohio To Allow Millions Of Illega...  Fake\n",
              "4  Democrats say Trump agrees to work on immigrat...  Real"
            ],
            "text/html": [
              "\n",
              "  <div id=\"df-15ace135-3053-4c08-a030-31a4ed729207\" class=\"colab-df-container\">\n",
              "    <div>\n",
              "<style scoped>\n",
              "    .dataframe tbody tr th:only-of-type {\n",
              "        vertical-align: middle;\n",
              "    }\n",
              "\n",
              "    .dataframe tbody tr th {\n",
              "        vertical-align: top;\n",
              "    }\n",
              "\n",
              "    .dataframe thead th {\n",
              "        text-align: right;\n",
              "    }\n",
              "</style>\n",
              "<table border=\"1\" class=\"dataframe\">\n",
              "  <thead>\n",
              "    <tr style=\"text-align: right;\">\n",
              "      <th></th>\n",
              "      <th>Text</th>\n",
              "      <th>label</th>\n",
              "    </tr>\n",
              "  </thead>\n",
              "  <tbody>\n",
              "    <tr>\n",
              "      <th>0</th>\n",
              "      <td>Top Trump Surrogate BRUTALLY Stabs Him In The...</td>\n",
              "      <td>Fake</td>\n",
              "    </tr>\n",
              "    <tr>\n",
              "      <th>1</th>\n",
              "      <td>U.S. conservative leader optimistic of common ...</td>\n",
              "      <td>Real</td>\n",
              "    </tr>\n",
              "    <tr>\n",
              "      <th>2</th>\n",
              "      <td>Trump proposes U.S. tax overhaul, stirs concer...</td>\n",
              "      <td>Real</td>\n",
              "    </tr>\n",
              "    <tr>\n",
              "      <th>3</th>\n",
              "      <td>Court Forces Ohio To Allow Millions Of Illega...</td>\n",
              "      <td>Fake</td>\n",
              "    </tr>\n",
              "    <tr>\n",
              "      <th>4</th>\n",
              "      <td>Democrats say Trump agrees to work on immigrat...</td>\n",
              "      <td>Real</td>\n",
              "    </tr>\n",
              "  </tbody>\n",
              "</table>\n",
              "</div>\n",
              "    <div class=\"colab-df-buttons\">\n",
              "\n",
              "  <div class=\"colab-df-container\">\n",
              "    <button class=\"colab-df-convert\" onclick=\"convertToInteractive('df-15ace135-3053-4c08-a030-31a4ed729207')\"\n",
              "            title=\"Convert this dataframe to an interactive table.\"\n",
              "            style=\"display:none;\">\n",
              "\n",
              "  <svg xmlns=\"http://www.w3.org/2000/svg\" height=\"24px\" viewBox=\"0 -960 960 960\">\n",
              "    <path d=\"M120-120v-720h720v720H120Zm60-500h600v-160H180v160Zm220 220h160v-160H400v160Zm0 220h160v-160H400v160ZM180-400h160v-160H180v160Zm440 0h160v-160H620v160ZM180-180h160v-160H180v160Zm440 0h160v-160H620v160Z\"/>\n",
              "  </svg>\n",
              "    </button>\n",
              "\n",
              "  <style>\n",
              "    .colab-df-container {\n",
              "      display:flex;\n",
              "      gap: 12px;\n",
              "    }\n",
              "\n",
              "    .colab-df-convert {\n",
              "      background-color: #E8F0FE;\n",
              "      border: none;\n",
              "      border-radius: 50%;\n",
              "      cursor: pointer;\n",
              "      display: none;\n",
              "      fill: #1967D2;\n",
              "      height: 32px;\n",
              "      padding: 0 0 0 0;\n",
              "      width: 32px;\n",
              "    }\n",
              "\n",
              "    .colab-df-convert:hover {\n",
              "      background-color: #E2EBFA;\n",
              "      box-shadow: 0px 1px 2px rgba(60, 64, 67, 0.3), 0px 1px 3px 1px rgba(60, 64, 67, 0.15);\n",
              "      fill: #174EA6;\n",
              "    }\n",
              "\n",
              "    .colab-df-buttons div {\n",
              "      margin-bottom: 4px;\n",
              "    }\n",
              "\n",
              "    [theme=dark] .colab-df-convert {\n",
              "      background-color: #3B4455;\n",
              "      fill: #D2E3FC;\n",
              "    }\n",
              "\n",
              "    [theme=dark] .colab-df-convert:hover {\n",
              "      background-color: #434B5C;\n",
              "      box-shadow: 0px 1px 3px 1px rgba(0, 0, 0, 0.15);\n",
              "      filter: drop-shadow(0px 1px 2px rgba(0, 0, 0, 0.3));\n",
              "      fill: #FFFFFF;\n",
              "    }\n",
              "  </style>\n",
              "\n",
              "    <script>\n",
              "      const buttonEl =\n",
              "        document.querySelector('#df-15ace135-3053-4c08-a030-31a4ed729207 button.colab-df-convert');\n",
              "      buttonEl.style.display =\n",
              "        google.colab.kernel.accessAllowed ? 'block' : 'none';\n",
              "\n",
              "      async function convertToInteractive(key) {\n",
              "        const element = document.querySelector('#df-15ace135-3053-4c08-a030-31a4ed729207');\n",
              "        const dataTable =\n",
              "          await google.colab.kernel.invokeFunction('convertToInteractive',\n",
              "                                                    [key], {});\n",
              "        if (!dataTable) return;\n",
              "\n",
              "        const docLinkHtml = 'Like what you see? Visit the ' +\n",
              "          '<a target=\"_blank\" href=https://colab.research.google.com/notebooks/data_table.ipynb>data table notebook</a>'\n",
              "          + ' to learn more about interactive tables.';\n",
              "        element.innerHTML = '';\n",
              "        dataTable['output_type'] = 'display_data';\n",
              "        await google.colab.output.renderOutput(dataTable, element);\n",
              "        const docLink = document.createElement('div');\n",
              "        docLink.innerHTML = docLinkHtml;\n",
              "        element.appendChild(docLink);\n",
              "      }\n",
              "    </script>\n",
              "  </div>\n",
              "\n",
              "\n",
              "<div id=\"df-0075ab8f-d5c2-4b3e-ae47-857f90f498fa\">\n",
              "  <button class=\"colab-df-quickchart\" onclick=\"quickchart('df-0075ab8f-d5c2-4b3e-ae47-857f90f498fa')\"\n",
              "            title=\"Suggest charts\"\n",
              "            style=\"display:none;\">\n",
              "\n",
              "<svg xmlns=\"http://www.w3.org/2000/svg\" height=\"24px\"viewBox=\"0 0 24 24\"\n",
              "     width=\"24px\">\n",
              "    <g>\n",
              "        <path d=\"M19 3H5c-1.1 0-2 .9-2 2v14c0 1.1.9 2 2 2h14c1.1 0 2-.9 2-2V5c0-1.1-.9-2-2-2zM9 17H7v-7h2v7zm4 0h-2V7h2v10zm4 0h-2v-4h2v4z\"/>\n",
              "    </g>\n",
              "</svg>\n",
              "  </button>\n",
              "\n",
              "<style>\n",
              "  .colab-df-quickchart {\n",
              "      --bg-color: #E8F0FE;\n",
              "      --fill-color: #1967D2;\n",
              "      --hover-bg-color: #E2EBFA;\n",
              "      --hover-fill-color: #174EA6;\n",
              "      --disabled-fill-color: #AAA;\n",
              "      --disabled-bg-color: #DDD;\n",
              "  }\n",
              "\n",
              "  [theme=dark] .colab-df-quickchart {\n",
              "      --bg-color: #3B4455;\n",
              "      --fill-color: #D2E3FC;\n",
              "      --hover-bg-color: #434B5C;\n",
              "      --hover-fill-color: #FFFFFF;\n",
              "      --disabled-bg-color: #3B4455;\n",
              "      --disabled-fill-color: #666;\n",
              "  }\n",
              "\n",
              "  .colab-df-quickchart {\n",
              "    background-color: var(--bg-color);\n",
              "    border: none;\n",
              "    border-radius: 50%;\n",
              "    cursor: pointer;\n",
              "    display: none;\n",
              "    fill: var(--fill-color);\n",
              "    height: 32px;\n",
              "    padding: 0;\n",
              "    width: 32px;\n",
              "  }\n",
              "\n",
              "  .colab-df-quickchart:hover {\n",
              "    background-color: var(--hover-bg-color);\n",
              "    box-shadow: 0 1px 2px rgba(60, 64, 67, 0.3), 0 1px 3px 1px rgba(60, 64, 67, 0.15);\n",
              "    fill: var(--button-hover-fill-color);\n",
              "  }\n",
              "\n",
              "  .colab-df-quickchart-complete:disabled,\n",
              "  .colab-df-quickchart-complete:disabled:hover {\n",
              "    background-color: var(--disabled-bg-color);\n",
              "    fill: var(--disabled-fill-color);\n",
              "    box-shadow: none;\n",
              "  }\n",
              "\n",
              "  .colab-df-spinner {\n",
              "    border: 2px solid var(--fill-color);\n",
              "    border-color: transparent;\n",
              "    border-bottom-color: var(--fill-color);\n",
              "    animation:\n",
              "      spin 1s steps(1) infinite;\n",
              "  }\n",
              "\n",
              "  @keyframes spin {\n",
              "    0% {\n",
              "      border-color: transparent;\n",
              "      border-bottom-color: var(--fill-color);\n",
              "      border-left-color: var(--fill-color);\n",
              "    }\n",
              "    20% {\n",
              "      border-color: transparent;\n",
              "      border-left-color: var(--fill-color);\n",
              "      border-top-color: var(--fill-color);\n",
              "    }\n",
              "    30% {\n",
              "      border-color: transparent;\n",
              "      border-left-color: var(--fill-color);\n",
              "      border-top-color: var(--fill-color);\n",
              "      border-right-color: var(--fill-color);\n",
              "    }\n",
              "    40% {\n",
              "      border-color: transparent;\n",
              "      border-right-color: var(--fill-color);\n",
              "      border-top-color: var(--fill-color);\n",
              "    }\n",
              "    60% {\n",
              "      border-color: transparent;\n",
              "      border-right-color: var(--fill-color);\n",
              "    }\n",
              "    80% {\n",
              "      border-color: transparent;\n",
              "      border-right-color: var(--fill-color);\n",
              "      border-bottom-color: var(--fill-color);\n",
              "    }\n",
              "    90% {\n",
              "      border-color: transparent;\n",
              "      border-bottom-color: var(--fill-color);\n",
              "    }\n",
              "  }\n",
              "</style>\n",
              "\n",
              "  <script>\n",
              "    async function quickchart(key) {\n",
              "      const quickchartButtonEl =\n",
              "        document.querySelector('#' + key + ' button');\n",
              "      quickchartButtonEl.disabled = true;  // To prevent multiple clicks.\n",
              "      quickchartButtonEl.classList.add('colab-df-spinner');\n",
              "      try {\n",
              "        const charts = await google.colab.kernel.invokeFunction(\n",
              "            'suggestCharts', [key], {});\n",
              "      } catch (error) {\n",
              "        console.error('Error during call to suggestCharts:', error);\n",
              "      }\n",
              "      quickchartButtonEl.classList.remove('colab-df-spinner');\n",
              "      quickchartButtonEl.classList.add('colab-df-quickchart-complete');\n",
              "    }\n",
              "    (() => {\n",
              "      let quickchartButtonEl =\n",
              "        document.querySelector('#df-0075ab8f-d5c2-4b3e-ae47-857f90f498fa button');\n",
              "      quickchartButtonEl.style.display =\n",
              "        google.colab.kernel.accessAllowed ? 'block' : 'none';\n",
              "    })();\n",
              "  </script>\n",
              "</div>\n",
              "\n",
              "    </div>\n",
              "  </div>\n"
            ]
          },
          "metadata": {},
          "execution_count": 5
        }
      ]
    },
    {
      "cell_type": "code",
      "source": [
        "print(f'total data: {len(df)}')\n",
        "print(df.label.value_counts())"
      ],
      "metadata": {
        "colab": {
          "base_uri": "https://localhost:8080/"
        },
        "id": "zxBDf2LnE1oD",
        "outputId": "5800a47b-9fb1-401a-fdba-ad94660c20b9"
      },
      "execution_count": null,
      "outputs": [
        {
          "output_type": "stream",
          "name": "stdout",
          "text": [
            "total data: 9900\n",
            "Fake    5000\n",
            "Real    4900\n",
            "Name: label, dtype: int64\n"
          ]
        }
      ]
    },
    {
      "cell_type": "markdown",
      "source": [
        "Encoding class with labels"
      ],
      "metadata": {
        "id": "LGexUf81FjaS"
      }
    },
    {
      "cell_type": "code",
      "source": [
        "df['Label_num'] = df['label'].map({'Fake':0,'Real':1})\n",
        "df.head()"
      ],
      "metadata": {
        "colab": {
          "base_uri": "https://localhost:8080/",
          "height": 206
        },
        "id": "BYLSu7Z3FFMj",
        "outputId": "160356dd-d7f6-4f2e-d9b7-2d9bc50f6f85"
      },
      "execution_count": null,
      "outputs": [
        {
          "output_type": "execute_result",
          "data": {
            "text/plain": [
              "                                                Text label  Label_num\n",
              "0   Top Trump Surrogate BRUTALLY Stabs Him In The...  Fake          0\n",
              "1  U.S. conservative leader optimistic of common ...  Real          1\n",
              "2  Trump proposes U.S. tax overhaul, stirs concer...  Real          1\n",
              "3   Court Forces Ohio To Allow Millions Of Illega...  Fake          0\n",
              "4  Democrats say Trump agrees to work on immigrat...  Real          1"
            ],
            "text/html": [
              "\n",
              "  <div id=\"df-609d66ca-5751-4026-b827-d409ac7dbfd2\" class=\"colab-df-container\">\n",
              "    <div>\n",
              "<style scoped>\n",
              "    .dataframe tbody tr th:only-of-type {\n",
              "        vertical-align: middle;\n",
              "    }\n",
              "\n",
              "    .dataframe tbody tr th {\n",
              "        vertical-align: top;\n",
              "    }\n",
              "\n",
              "    .dataframe thead th {\n",
              "        text-align: right;\n",
              "    }\n",
              "</style>\n",
              "<table border=\"1\" class=\"dataframe\">\n",
              "  <thead>\n",
              "    <tr style=\"text-align: right;\">\n",
              "      <th></th>\n",
              "      <th>Text</th>\n",
              "      <th>label</th>\n",
              "      <th>Label_num</th>\n",
              "    </tr>\n",
              "  </thead>\n",
              "  <tbody>\n",
              "    <tr>\n",
              "      <th>0</th>\n",
              "      <td>Top Trump Surrogate BRUTALLY Stabs Him In The...</td>\n",
              "      <td>Fake</td>\n",
              "      <td>0</td>\n",
              "    </tr>\n",
              "    <tr>\n",
              "      <th>1</th>\n",
              "      <td>U.S. conservative leader optimistic of common ...</td>\n",
              "      <td>Real</td>\n",
              "      <td>1</td>\n",
              "    </tr>\n",
              "    <tr>\n",
              "      <th>2</th>\n",
              "      <td>Trump proposes U.S. tax overhaul, stirs concer...</td>\n",
              "      <td>Real</td>\n",
              "      <td>1</td>\n",
              "    </tr>\n",
              "    <tr>\n",
              "      <th>3</th>\n",
              "      <td>Court Forces Ohio To Allow Millions Of Illega...</td>\n",
              "      <td>Fake</td>\n",
              "      <td>0</td>\n",
              "    </tr>\n",
              "    <tr>\n",
              "      <th>4</th>\n",
              "      <td>Democrats say Trump agrees to work on immigrat...</td>\n",
              "      <td>Real</td>\n",
              "      <td>1</td>\n",
              "    </tr>\n",
              "  </tbody>\n",
              "</table>\n",
              "</div>\n",
              "    <div class=\"colab-df-buttons\">\n",
              "\n",
              "  <div class=\"colab-df-container\">\n",
              "    <button class=\"colab-df-convert\" onclick=\"convertToInteractive('df-609d66ca-5751-4026-b827-d409ac7dbfd2')\"\n",
              "            title=\"Convert this dataframe to an interactive table.\"\n",
              "            style=\"display:none;\">\n",
              "\n",
              "  <svg xmlns=\"http://www.w3.org/2000/svg\" height=\"24px\" viewBox=\"0 -960 960 960\">\n",
              "    <path d=\"M120-120v-720h720v720H120Zm60-500h600v-160H180v160Zm220 220h160v-160H400v160Zm0 220h160v-160H400v160ZM180-400h160v-160H180v160Zm440 0h160v-160H620v160ZM180-180h160v-160H180v160Zm440 0h160v-160H620v160Z\"/>\n",
              "  </svg>\n",
              "    </button>\n",
              "\n",
              "  <style>\n",
              "    .colab-df-container {\n",
              "      display:flex;\n",
              "      gap: 12px;\n",
              "    }\n",
              "\n",
              "    .colab-df-convert {\n",
              "      background-color: #E8F0FE;\n",
              "      border: none;\n",
              "      border-radius: 50%;\n",
              "      cursor: pointer;\n",
              "      display: none;\n",
              "      fill: #1967D2;\n",
              "      height: 32px;\n",
              "      padding: 0 0 0 0;\n",
              "      width: 32px;\n",
              "    }\n",
              "\n",
              "    .colab-df-convert:hover {\n",
              "      background-color: #E2EBFA;\n",
              "      box-shadow: 0px 1px 2px rgba(60, 64, 67, 0.3), 0px 1px 3px 1px rgba(60, 64, 67, 0.15);\n",
              "      fill: #174EA6;\n",
              "    }\n",
              "\n",
              "    .colab-df-buttons div {\n",
              "      margin-bottom: 4px;\n",
              "    }\n",
              "\n",
              "    [theme=dark] .colab-df-convert {\n",
              "      background-color: #3B4455;\n",
              "      fill: #D2E3FC;\n",
              "    }\n",
              "\n",
              "    [theme=dark] .colab-df-convert:hover {\n",
              "      background-color: #434B5C;\n",
              "      box-shadow: 0px 1px 3px 1px rgba(0, 0, 0, 0.15);\n",
              "      filter: drop-shadow(0px 1px 2px rgba(0, 0, 0, 0.3));\n",
              "      fill: #FFFFFF;\n",
              "    }\n",
              "  </style>\n",
              "\n",
              "    <script>\n",
              "      const buttonEl =\n",
              "        document.querySelector('#df-609d66ca-5751-4026-b827-d409ac7dbfd2 button.colab-df-convert');\n",
              "      buttonEl.style.display =\n",
              "        google.colab.kernel.accessAllowed ? 'block' : 'none';\n",
              "\n",
              "      async function convertToInteractive(key) {\n",
              "        const element = document.querySelector('#df-609d66ca-5751-4026-b827-d409ac7dbfd2');\n",
              "        const dataTable =\n",
              "          await google.colab.kernel.invokeFunction('convertToInteractive',\n",
              "                                                    [key], {});\n",
              "        if (!dataTable) return;\n",
              "\n",
              "        const docLinkHtml = 'Like what you see? Visit the ' +\n",
              "          '<a target=\"_blank\" href=https://colab.research.google.com/notebooks/data_table.ipynb>data table notebook</a>'\n",
              "          + ' to learn more about interactive tables.';\n",
              "        element.innerHTML = '';\n",
              "        dataTable['output_type'] = 'display_data';\n",
              "        await google.colab.output.renderOutput(dataTable, element);\n",
              "        const docLink = document.createElement('div');\n",
              "        docLink.innerHTML = docLinkHtml;\n",
              "        element.appendChild(docLink);\n",
              "      }\n",
              "    </script>\n",
              "  </div>\n",
              "\n",
              "\n",
              "<div id=\"df-c4e5c823-d2ae-453f-b826-43fd45235880\">\n",
              "  <button class=\"colab-df-quickchart\" onclick=\"quickchart('df-c4e5c823-d2ae-453f-b826-43fd45235880')\"\n",
              "            title=\"Suggest charts\"\n",
              "            style=\"display:none;\">\n",
              "\n",
              "<svg xmlns=\"http://www.w3.org/2000/svg\" height=\"24px\"viewBox=\"0 0 24 24\"\n",
              "     width=\"24px\">\n",
              "    <g>\n",
              "        <path d=\"M19 3H5c-1.1 0-2 .9-2 2v14c0 1.1.9 2 2 2h14c1.1 0 2-.9 2-2V5c0-1.1-.9-2-2-2zM9 17H7v-7h2v7zm4 0h-2V7h2v10zm4 0h-2v-4h2v4z\"/>\n",
              "    </g>\n",
              "</svg>\n",
              "  </button>\n",
              "\n",
              "<style>\n",
              "  .colab-df-quickchart {\n",
              "      --bg-color: #E8F0FE;\n",
              "      --fill-color: #1967D2;\n",
              "      --hover-bg-color: #E2EBFA;\n",
              "      --hover-fill-color: #174EA6;\n",
              "      --disabled-fill-color: #AAA;\n",
              "      --disabled-bg-color: #DDD;\n",
              "  }\n",
              "\n",
              "  [theme=dark] .colab-df-quickchart {\n",
              "      --bg-color: #3B4455;\n",
              "      --fill-color: #D2E3FC;\n",
              "      --hover-bg-color: #434B5C;\n",
              "      --hover-fill-color: #FFFFFF;\n",
              "      --disabled-bg-color: #3B4455;\n",
              "      --disabled-fill-color: #666;\n",
              "  }\n",
              "\n",
              "  .colab-df-quickchart {\n",
              "    background-color: var(--bg-color);\n",
              "    border: none;\n",
              "    border-radius: 50%;\n",
              "    cursor: pointer;\n",
              "    display: none;\n",
              "    fill: var(--fill-color);\n",
              "    height: 32px;\n",
              "    padding: 0;\n",
              "    width: 32px;\n",
              "  }\n",
              "\n",
              "  .colab-df-quickchart:hover {\n",
              "    background-color: var(--hover-bg-color);\n",
              "    box-shadow: 0 1px 2px rgba(60, 64, 67, 0.3), 0 1px 3px 1px rgba(60, 64, 67, 0.15);\n",
              "    fill: var(--button-hover-fill-color);\n",
              "  }\n",
              "\n",
              "  .colab-df-quickchart-complete:disabled,\n",
              "  .colab-df-quickchart-complete:disabled:hover {\n",
              "    background-color: var(--disabled-bg-color);\n",
              "    fill: var(--disabled-fill-color);\n",
              "    box-shadow: none;\n",
              "  }\n",
              "\n",
              "  .colab-df-spinner {\n",
              "    border: 2px solid var(--fill-color);\n",
              "    border-color: transparent;\n",
              "    border-bottom-color: var(--fill-color);\n",
              "    animation:\n",
              "      spin 1s steps(1) infinite;\n",
              "  }\n",
              "\n",
              "  @keyframes spin {\n",
              "    0% {\n",
              "      border-color: transparent;\n",
              "      border-bottom-color: var(--fill-color);\n",
              "      border-left-color: var(--fill-color);\n",
              "    }\n",
              "    20% {\n",
              "      border-color: transparent;\n",
              "      border-left-color: var(--fill-color);\n",
              "      border-top-color: var(--fill-color);\n",
              "    }\n",
              "    30% {\n",
              "      border-color: transparent;\n",
              "      border-left-color: var(--fill-color);\n",
              "      border-top-color: var(--fill-color);\n",
              "      border-right-color: var(--fill-color);\n",
              "    }\n",
              "    40% {\n",
              "      border-color: transparent;\n",
              "      border-right-color: var(--fill-color);\n",
              "      border-top-color: var(--fill-color);\n",
              "    }\n",
              "    60% {\n",
              "      border-color: transparent;\n",
              "      border-right-color: var(--fill-color);\n",
              "    }\n",
              "    80% {\n",
              "      border-color: transparent;\n",
              "      border-right-color: var(--fill-color);\n",
              "      border-bottom-color: var(--fill-color);\n",
              "    }\n",
              "    90% {\n",
              "      border-color: transparent;\n",
              "      border-bottom-color: var(--fill-color);\n",
              "    }\n",
              "  }\n",
              "</style>\n",
              "\n",
              "  <script>\n",
              "    async function quickchart(key) {\n",
              "      const quickchartButtonEl =\n",
              "        document.querySelector('#' + key + ' button');\n",
              "      quickchartButtonEl.disabled = true;  // To prevent multiple clicks.\n",
              "      quickchartButtonEl.classList.add('colab-df-spinner');\n",
              "      try {\n",
              "        const charts = await google.colab.kernel.invokeFunction(\n",
              "            'suggestCharts', [key], {});\n",
              "      } catch (error) {\n",
              "        console.error('Error during call to suggestCharts:', error);\n",
              "      }\n",
              "      quickchartButtonEl.classList.remove('colab-df-spinner');\n",
              "      quickchartButtonEl.classList.add('colab-df-quickchart-complete');\n",
              "    }\n",
              "    (() => {\n",
              "      let quickchartButtonEl =\n",
              "        document.querySelector('#df-c4e5c823-d2ae-453f-b826-43fd45235880 button');\n",
              "      quickchartButtonEl.style.display =\n",
              "        google.colab.kernel.accessAllowed ? 'block' : 'none';\n",
              "    })();\n",
              "  </script>\n",
              "</div>\n",
              "\n",
              "    </div>\n",
              "  </div>\n"
            ]
          },
          "metadata": {},
          "execution_count": 7
        }
      ]
    },
    {
      "cell_type": "markdown",
      "source": [
        "# spacy:\n",
        "spaCy is an open-source natural language processing (NLP) library in Python. It is designed to be efficient, fast, and production-ready. spaCy provides pre-trained models for various languages, including English, to perform tasks such as tokenization, part-of-speech tagging, named entity recognition, and more."
      ],
      "metadata": {
        "id": "k8sogWXqFzWQ"
      }
    },
    {
      "cell_type": "markdown",
      "source": [
        "# en_core_web_sm:\n",
        "The en_core_web_sm model in spaCy is a small English language model provided by spaCy. Here are some key details about this model:\n",
        "\n",
        "Size: Small (sm)\n",
        "Pipeline: The model includes a basic NLP pipeline with essential components, such as tokenization, part-of-speech tagging, dependency parsing, named entity recognition, but without certain features like word vectors.\n",
        "Word Vectors: Unlike the larger models (such as en_core_web_md and en_core_web_lg), the small model (en_core_web_sm) does not come with word vectors. Word vectors are multi-dimensional representations of words in a continuous vector space that capture semantic similarities.\n",
        "Resource Requirements: The small size of the model makes it faster and requires less memory compared to larger models. This makes it suitable for applications where resource constraints are a concern.to install"
      ],
      "metadata": {
        "id": "EdMtmdJXGxWH"
      }
    },
    {
      "cell_type": "code",
      "source": [
        "!python -m spacy download en_core_web_sm\n"
      ],
      "metadata": {
        "colab": {
          "base_uri": "https://localhost:8080/"
        },
        "id": "b34LLnlVGWh_",
        "outputId": "347b9a4f-7416-4183-dbc0-668fdea9fc89"
      },
      "execution_count": null,
      "outputs": [
        {
          "output_type": "stream",
          "name": "stdout",
          "text": [
            "2023-12-11 22:59:05.600403: E tensorflow/compiler/xla/stream_executor/cuda/cuda_dnn.cc:9342] Unable to register cuDNN factory: Attempting to register factory for plugin cuDNN when one has already been registered\n",
            "2023-12-11 22:59:05.600492: E tensorflow/compiler/xla/stream_executor/cuda/cuda_fft.cc:609] Unable to register cuFFT factory: Attempting to register factory for plugin cuFFT when one has already been registered\n",
            "2023-12-11 22:59:05.600538: E tensorflow/compiler/xla/stream_executor/cuda/cuda_blas.cc:1518] Unable to register cuBLAS factory: Attempting to register factory for plugin cuBLAS when one has already been registered\n",
            "2023-12-11 22:59:07.298202: W tensorflow/compiler/tf2tensorrt/utils/py_utils.cc:38] TF-TRT Warning: Could not find TensorRT\n",
            "Collecting en-core-web-sm==3.6.0\n",
            "  Downloading https://github.com/explosion/spacy-models/releases/download/en_core_web_sm-3.6.0/en_core_web_sm-3.6.0-py3-none-any.whl (12.8 MB)\n",
            "\u001b[2K     \u001b[90m━━━━━━━━━━━━━━━━━━━━━━━━━━━━━━━━━━━━━━━━\u001b[0m \u001b[32m12.8/12.8 MB\u001b[0m \u001b[31m25.6 MB/s\u001b[0m eta \u001b[36m0:00:00\u001b[0m\n",
            "\u001b[?25hRequirement already satisfied: spacy<3.7.0,>=3.6.0 in /usr/local/lib/python3.10/dist-packages (from en-core-web-sm==3.6.0) (3.6.1)\n",
            "Requirement already satisfied: spacy-legacy<3.1.0,>=3.0.11 in /usr/local/lib/python3.10/dist-packages (from spacy<3.7.0,>=3.6.0->en-core-web-sm==3.6.0) (3.0.12)\n",
            "Requirement already satisfied: spacy-loggers<2.0.0,>=1.0.0 in /usr/local/lib/python3.10/dist-packages (from spacy<3.7.0,>=3.6.0->en-core-web-sm==3.6.0) (1.0.5)\n",
            "Requirement already satisfied: murmurhash<1.1.0,>=0.28.0 in /usr/local/lib/python3.10/dist-packages (from spacy<3.7.0,>=3.6.0->en-core-web-sm==3.6.0) (1.0.10)\n",
            "Requirement already satisfied: cymem<2.1.0,>=2.0.2 in /usr/local/lib/python3.10/dist-packages (from spacy<3.7.0,>=3.6.0->en-core-web-sm==3.6.0) (2.0.8)\n",
            "Requirement already satisfied: preshed<3.1.0,>=3.0.2 in /usr/local/lib/python3.10/dist-packages (from spacy<3.7.0,>=3.6.0->en-core-web-sm==3.6.0) (3.0.9)\n",
            "Requirement already satisfied: thinc<8.2.0,>=8.1.8 in /usr/local/lib/python3.10/dist-packages (from spacy<3.7.0,>=3.6.0->en-core-web-sm==3.6.0) (8.1.12)\n",
            "Requirement already satisfied: wasabi<1.2.0,>=0.9.1 in /usr/local/lib/python3.10/dist-packages (from spacy<3.7.0,>=3.6.0->en-core-web-sm==3.6.0) (1.1.2)\n",
            "Requirement already satisfied: srsly<3.0.0,>=2.4.3 in /usr/local/lib/python3.10/dist-packages (from spacy<3.7.0,>=3.6.0->en-core-web-sm==3.6.0) (2.4.8)\n",
            "Requirement already satisfied: catalogue<2.1.0,>=2.0.6 in /usr/local/lib/python3.10/dist-packages (from spacy<3.7.0,>=3.6.0->en-core-web-sm==3.6.0) (2.0.10)\n",
            "Requirement already satisfied: typer<0.10.0,>=0.3.0 in /usr/local/lib/python3.10/dist-packages (from spacy<3.7.0,>=3.6.0->en-core-web-sm==3.6.0) (0.9.0)\n",
            "Requirement already satisfied: pathy>=0.10.0 in /usr/local/lib/python3.10/dist-packages (from spacy<3.7.0,>=3.6.0->en-core-web-sm==3.6.0) (0.10.3)\n",
            "Requirement already satisfied: smart-open<7.0.0,>=5.2.1 in /usr/local/lib/python3.10/dist-packages (from spacy<3.7.0,>=3.6.0->en-core-web-sm==3.6.0) (6.4.0)\n",
            "Requirement already satisfied: tqdm<5.0.0,>=4.38.0 in /usr/local/lib/python3.10/dist-packages (from spacy<3.7.0,>=3.6.0->en-core-web-sm==3.6.0) (4.66.1)\n",
            "Requirement already satisfied: numpy>=1.15.0 in /usr/local/lib/python3.10/dist-packages (from spacy<3.7.0,>=3.6.0->en-core-web-sm==3.6.0) (1.23.5)\n",
            "Requirement already satisfied: requests<3.0.0,>=2.13.0 in /usr/local/lib/python3.10/dist-packages (from spacy<3.7.0,>=3.6.0->en-core-web-sm==3.6.0) (2.31.0)\n",
            "Requirement already satisfied: pydantic!=1.8,!=1.8.1,<3.0.0,>=1.7.4 in /usr/local/lib/python3.10/dist-packages (from spacy<3.7.0,>=3.6.0->en-core-web-sm==3.6.0) (1.10.13)\n",
            "Requirement already satisfied: jinja2 in /usr/local/lib/python3.10/dist-packages (from spacy<3.7.0,>=3.6.0->en-core-web-sm==3.6.0) (3.1.2)\n",
            "Requirement already satisfied: setuptools in /usr/local/lib/python3.10/dist-packages (from spacy<3.7.0,>=3.6.0->en-core-web-sm==3.6.0) (67.7.2)\n",
            "Requirement already satisfied: packaging>=20.0 in /usr/local/lib/python3.10/dist-packages (from spacy<3.7.0,>=3.6.0->en-core-web-sm==3.6.0) (23.2)\n",
            "Requirement already satisfied: langcodes<4.0.0,>=3.2.0 in /usr/local/lib/python3.10/dist-packages (from spacy<3.7.0,>=3.6.0->en-core-web-sm==3.6.0) (3.3.0)\n",
            "Requirement already satisfied: typing-extensions>=4.2.0 in /usr/local/lib/python3.10/dist-packages (from pydantic!=1.8,!=1.8.1,<3.0.0,>=1.7.4->spacy<3.7.0,>=3.6.0->en-core-web-sm==3.6.0) (4.5.0)\n",
            "Requirement already satisfied: charset-normalizer<4,>=2 in /usr/local/lib/python3.10/dist-packages (from requests<3.0.0,>=2.13.0->spacy<3.7.0,>=3.6.0->en-core-web-sm==3.6.0) (3.3.2)\n",
            "Requirement already satisfied: idna<4,>=2.5 in /usr/local/lib/python3.10/dist-packages (from requests<3.0.0,>=2.13.0->spacy<3.7.0,>=3.6.0->en-core-web-sm==3.6.0) (3.6)\n",
            "Requirement already satisfied: urllib3<3,>=1.21.1 in /usr/local/lib/python3.10/dist-packages (from requests<3.0.0,>=2.13.0->spacy<3.7.0,>=3.6.0->en-core-web-sm==3.6.0) (2.0.7)\n",
            "Requirement already satisfied: certifi>=2017.4.17 in /usr/local/lib/python3.10/dist-packages (from requests<3.0.0,>=2.13.0->spacy<3.7.0,>=3.6.0->en-core-web-sm==3.6.0) (2023.11.17)\n",
            "Requirement already satisfied: blis<0.8.0,>=0.7.8 in /usr/local/lib/python3.10/dist-packages (from thinc<8.2.0,>=8.1.8->spacy<3.7.0,>=3.6.0->en-core-web-sm==3.6.0) (0.7.11)\n",
            "Requirement already satisfied: confection<1.0.0,>=0.0.1 in /usr/local/lib/python3.10/dist-packages (from thinc<8.2.0,>=8.1.8->spacy<3.7.0,>=3.6.0->en-core-web-sm==3.6.0) (0.1.4)\n",
            "Requirement already satisfied: click<9.0.0,>=7.1.1 in /usr/local/lib/python3.10/dist-packages (from typer<0.10.0,>=0.3.0->spacy<3.7.0,>=3.6.0->en-core-web-sm==3.6.0) (8.1.7)\n",
            "Requirement already satisfied: MarkupSafe>=2.0 in /usr/local/lib/python3.10/dist-packages (from jinja2->spacy<3.7.0,>=3.6.0->en-core-web-sm==3.6.0) (2.1.3)\n",
            "\u001b[38;5;2m✔ Download and installation successful\u001b[0m\n",
            "You can now load the package via spacy.load('en_core_web_sm')\n"
          ]
        }
      ]
    },
    {
      "cell_type": "code",
      "source": [
        "nlp = spacy.load('en_core_web_sm')"
      ],
      "metadata": {
        "id": "fXUEKbTfFhn2"
      },
      "execution_count": null,
      "outputs": []
    },
    {
      "cell_type": "markdown",
      "source": [
        "Computer don't know Language like us. They only know numbers. So we need to convert the text into vectors so that computer can understand text-to-vector is done by"
      ],
      "metadata": {
        "id": "1MCnk1rGIX-K"
      }
    },
    {
      "cell_type": "code",
      "source": [
        "df['input_vector'] = df['Text'].apply(lambda x : nlp(x).vector)"
      ],
      "metadata": {
        "id": "vY4r9xGNGQWU"
      },
      "execution_count": null,
      "outputs": []
    },
    {
      "cell_type": "code",
      "source": [
        "df.head()"
      ],
      "metadata": {
        "colab": {
          "base_uri": "https://localhost:8080/",
          "height": 206
        },
        "id": "9Pl_co6uMdr_",
        "outputId": "9c009fc2-a030-483f-971c-c46f1618299e"
      },
      "execution_count": null,
      "outputs": [
        {
          "output_type": "execute_result",
          "data": {
            "text/plain": [
              "                                                Text label  Label_num  \\\n",
              "0   Top Trump Surrogate BRUTALLY Stabs Him In The...  Fake          0   \n",
              "1  U.S. conservative leader optimistic of common ...  Real          1   \n",
              "2  Trump proposes U.S. tax overhaul, stirs concer...  Real          1   \n",
              "3   Court Forces Ohio To Allow Millions Of Illega...  Fake          0   \n",
              "4  Democrats say Trump agrees to work on immigrat...  Real          1   \n",
              "\n",
              "                                        input_vector  \n",
              "0  [-0.14632672, -0.3020763, -0.045914326, 0.0619...  \n",
              "1  [0.055454265, -0.36253053, -0.11963351, -0.086...  \n",
              "2  [0.043621548, -0.27755603, -0.028810846, 0.099...  \n",
              "3  [0.1272476, -0.2651771, -0.08980094, 0.0567397...  \n",
              "4  [0.01640062, -0.25604177, -0.10266964, 0.03912...  "
            ],
            "text/html": [
              "\n",
              "  <div id=\"df-f24659c5-ac63-4169-94a7-8f3b3856199a\" class=\"colab-df-container\">\n",
              "    <div>\n",
              "<style scoped>\n",
              "    .dataframe tbody tr th:only-of-type {\n",
              "        vertical-align: middle;\n",
              "    }\n",
              "\n",
              "    .dataframe tbody tr th {\n",
              "        vertical-align: top;\n",
              "    }\n",
              "\n",
              "    .dataframe thead th {\n",
              "        text-align: right;\n",
              "    }\n",
              "</style>\n",
              "<table border=\"1\" class=\"dataframe\">\n",
              "  <thead>\n",
              "    <tr style=\"text-align: right;\">\n",
              "      <th></th>\n",
              "      <th>Text</th>\n",
              "      <th>label</th>\n",
              "      <th>Label_num</th>\n",
              "      <th>input_vector</th>\n",
              "    </tr>\n",
              "  </thead>\n",
              "  <tbody>\n",
              "    <tr>\n",
              "      <th>0</th>\n",
              "      <td>Top Trump Surrogate BRUTALLY Stabs Him In The...</td>\n",
              "      <td>Fake</td>\n",
              "      <td>0</td>\n",
              "      <td>[-0.14632672, -0.3020763, -0.045914326, 0.0619...</td>\n",
              "    </tr>\n",
              "    <tr>\n",
              "      <th>1</th>\n",
              "      <td>U.S. conservative leader optimistic of common ...</td>\n",
              "      <td>Real</td>\n",
              "      <td>1</td>\n",
              "      <td>[0.055454265, -0.36253053, -0.11963351, -0.086...</td>\n",
              "    </tr>\n",
              "    <tr>\n",
              "      <th>2</th>\n",
              "      <td>Trump proposes U.S. tax overhaul, stirs concer...</td>\n",
              "      <td>Real</td>\n",
              "      <td>1</td>\n",
              "      <td>[0.043621548, -0.27755603, -0.028810846, 0.099...</td>\n",
              "    </tr>\n",
              "    <tr>\n",
              "      <th>3</th>\n",
              "      <td>Court Forces Ohio To Allow Millions Of Illega...</td>\n",
              "      <td>Fake</td>\n",
              "      <td>0</td>\n",
              "      <td>[0.1272476, -0.2651771, -0.08980094, 0.0567397...</td>\n",
              "    </tr>\n",
              "    <tr>\n",
              "      <th>4</th>\n",
              "      <td>Democrats say Trump agrees to work on immigrat...</td>\n",
              "      <td>Real</td>\n",
              "      <td>1</td>\n",
              "      <td>[0.01640062, -0.25604177, -0.10266964, 0.03912...</td>\n",
              "    </tr>\n",
              "  </tbody>\n",
              "</table>\n",
              "</div>\n",
              "    <div class=\"colab-df-buttons\">\n",
              "\n",
              "  <div class=\"colab-df-container\">\n",
              "    <button class=\"colab-df-convert\" onclick=\"convertToInteractive('df-f24659c5-ac63-4169-94a7-8f3b3856199a')\"\n",
              "            title=\"Convert this dataframe to an interactive table.\"\n",
              "            style=\"display:none;\">\n",
              "\n",
              "  <svg xmlns=\"http://www.w3.org/2000/svg\" height=\"24px\" viewBox=\"0 -960 960 960\">\n",
              "    <path d=\"M120-120v-720h720v720H120Zm60-500h600v-160H180v160Zm220 220h160v-160H400v160Zm0 220h160v-160H400v160ZM180-400h160v-160H180v160Zm440 0h160v-160H620v160ZM180-180h160v-160H180v160Zm440 0h160v-160H620v160Z\"/>\n",
              "  </svg>\n",
              "    </button>\n",
              "\n",
              "  <style>\n",
              "    .colab-df-container {\n",
              "      display:flex;\n",
              "      gap: 12px;\n",
              "    }\n",
              "\n",
              "    .colab-df-convert {\n",
              "      background-color: #E8F0FE;\n",
              "      border: none;\n",
              "      border-radius: 50%;\n",
              "      cursor: pointer;\n",
              "      display: none;\n",
              "      fill: #1967D2;\n",
              "      height: 32px;\n",
              "      padding: 0 0 0 0;\n",
              "      width: 32px;\n",
              "    }\n",
              "\n",
              "    .colab-df-convert:hover {\n",
              "      background-color: #E2EBFA;\n",
              "      box-shadow: 0px 1px 2px rgba(60, 64, 67, 0.3), 0px 1px 3px 1px rgba(60, 64, 67, 0.15);\n",
              "      fill: #174EA6;\n",
              "    }\n",
              "\n",
              "    .colab-df-buttons div {\n",
              "      margin-bottom: 4px;\n",
              "    }\n",
              "\n",
              "    [theme=dark] .colab-df-convert {\n",
              "      background-color: #3B4455;\n",
              "      fill: #D2E3FC;\n",
              "    }\n",
              "\n",
              "    [theme=dark] .colab-df-convert:hover {\n",
              "      background-color: #434B5C;\n",
              "      box-shadow: 0px 1px 3px 1px rgba(0, 0, 0, 0.15);\n",
              "      filter: drop-shadow(0px 1px 2px rgba(0, 0, 0, 0.3));\n",
              "      fill: #FFFFFF;\n",
              "    }\n",
              "  </style>\n",
              "\n",
              "    <script>\n",
              "      const buttonEl =\n",
              "        document.querySelector('#df-f24659c5-ac63-4169-94a7-8f3b3856199a button.colab-df-convert');\n",
              "      buttonEl.style.display =\n",
              "        google.colab.kernel.accessAllowed ? 'block' : 'none';\n",
              "\n",
              "      async function convertToInteractive(key) {\n",
              "        const element = document.querySelector('#df-f24659c5-ac63-4169-94a7-8f3b3856199a');\n",
              "        const dataTable =\n",
              "          await google.colab.kernel.invokeFunction('convertToInteractive',\n",
              "                                                    [key], {});\n",
              "        if (!dataTable) return;\n",
              "\n",
              "        const docLinkHtml = 'Like what you see? Visit the ' +\n",
              "          '<a target=\"_blank\" href=https://colab.research.google.com/notebooks/data_table.ipynb>data table notebook</a>'\n",
              "          + ' to learn more about interactive tables.';\n",
              "        element.innerHTML = '';\n",
              "        dataTable['output_type'] = 'display_data';\n",
              "        await google.colab.output.renderOutput(dataTable, element);\n",
              "        const docLink = document.createElement('div');\n",
              "        docLink.innerHTML = docLinkHtml;\n",
              "        element.appendChild(docLink);\n",
              "      }\n",
              "    </script>\n",
              "  </div>\n",
              "\n",
              "\n",
              "<div id=\"df-2c944523-c716-41f7-9bad-de893ae746fb\">\n",
              "  <button class=\"colab-df-quickchart\" onclick=\"quickchart('df-2c944523-c716-41f7-9bad-de893ae746fb')\"\n",
              "            title=\"Suggest charts\"\n",
              "            style=\"display:none;\">\n",
              "\n",
              "<svg xmlns=\"http://www.w3.org/2000/svg\" height=\"24px\"viewBox=\"0 0 24 24\"\n",
              "     width=\"24px\">\n",
              "    <g>\n",
              "        <path d=\"M19 3H5c-1.1 0-2 .9-2 2v14c0 1.1.9 2 2 2h14c1.1 0 2-.9 2-2V5c0-1.1-.9-2-2-2zM9 17H7v-7h2v7zm4 0h-2V7h2v10zm4 0h-2v-4h2v4z\"/>\n",
              "    </g>\n",
              "</svg>\n",
              "  </button>\n",
              "\n",
              "<style>\n",
              "  .colab-df-quickchart {\n",
              "      --bg-color: #E8F0FE;\n",
              "      --fill-color: #1967D2;\n",
              "      --hover-bg-color: #E2EBFA;\n",
              "      --hover-fill-color: #174EA6;\n",
              "      --disabled-fill-color: #AAA;\n",
              "      --disabled-bg-color: #DDD;\n",
              "  }\n",
              "\n",
              "  [theme=dark] .colab-df-quickchart {\n",
              "      --bg-color: #3B4455;\n",
              "      --fill-color: #D2E3FC;\n",
              "      --hover-bg-color: #434B5C;\n",
              "      --hover-fill-color: #FFFFFF;\n",
              "      --disabled-bg-color: #3B4455;\n",
              "      --disabled-fill-color: #666;\n",
              "  }\n",
              "\n",
              "  .colab-df-quickchart {\n",
              "    background-color: var(--bg-color);\n",
              "    border: none;\n",
              "    border-radius: 50%;\n",
              "    cursor: pointer;\n",
              "    display: none;\n",
              "    fill: var(--fill-color);\n",
              "    height: 32px;\n",
              "    padding: 0;\n",
              "    width: 32px;\n",
              "  }\n",
              "\n",
              "  .colab-df-quickchart:hover {\n",
              "    background-color: var(--hover-bg-color);\n",
              "    box-shadow: 0 1px 2px rgba(60, 64, 67, 0.3), 0 1px 3px 1px rgba(60, 64, 67, 0.15);\n",
              "    fill: var(--button-hover-fill-color);\n",
              "  }\n",
              "\n",
              "  .colab-df-quickchart-complete:disabled,\n",
              "  .colab-df-quickchart-complete:disabled:hover {\n",
              "    background-color: var(--disabled-bg-color);\n",
              "    fill: var(--disabled-fill-color);\n",
              "    box-shadow: none;\n",
              "  }\n",
              "\n",
              "  .colab-df-spinner {\n",
              "    border: 2px solid var(--fill-color);\n",
              "    border-color: transparent;\n",
              "    border-bottom-color: var(--fill-color);\n",
              "    animation:\n",
              "      spin 1s steps(1) infinite;\n",
              "  }\n",
              "\n",
              "  @keyframes spin {\n",
              "    0% {\n",
              "      border-color: transparent;\n",
              "      border-bottom-color: var(--fill-color);\n",
              "      border-left-color: var(--fill-color);\n",
              "    }\n",
              "    20% {\n",
              "      border-color: transparent;\n",
              "      border-left-color: var(--fill-color);\n",
              "      border-top-color: var(--fill-color);\n",
              "    }\n",
              "    30% {\n",
              "      border-color: transparent;\n",
              "      border-left-color: var(--fill-color);\n",
              "      border-top-color: var(--fill-color);\n",
              "      border-right-color: var(--fill-color);\n",
              "    }\n",
              "    40% {\n",
              "      border-color: transparent;\n",
              "      border-right-color: var(--fill-color);\n",
              "      border-top-color: var(--fill-color);\n",
              "    }\n",
              "    60% {\n",
              "      border-color: transparent;\n",
              "      border-right-color: var(--fill-color);\n",
              "    }\n",
              "    80% {\n",
              "      border-color: transparent;\n",
              "      border-right-color: var(--fill-color);\n",
              "      border-bottom-color: var(--fill-color);\n",
              "    }\n",
              "    90% {\n",
              "      border-color: transparent;\n",
              "      border-bottom-color: var(--fill-color);\n",
              "    }\n",
              "  }\n",
              "</style>\n",
              "\n",
              "  <script>\n",
              "    async function quickchart(key) {\n",
              "      const quickchartButtonEl =\n",
              "        document.querySelector('#' + key + ' button');\n",
              "      quickchartButtonEl.disabled = true;  // To prevent multiple clicks.\n",
              "      quickchartButtonEl.classList.add('colab-df-spinner');\n",
              "      try {\n",
              "        const charts = await google.colab.kernel.invokeFunction(\n",
              "            'suggestCharts', [key], {});\n",
              "      } catch (error) {\n",
              "        console.error('Error during call to suggestCharts:', error);\n",
              "      }\n",
              "      quickchartButtonEl.classList.remove('colab-df-spinner');\n",
              "      quickchartButtonEl.classList.add('colab-df-quickchart-complete');\n",
              "    }\n",
              "    (() => {\n",
              "      let quickchartButtonEl =\n",
              "        document.querySelector('#df-2c944523-c716-41f7-9bad-de893ae746fb button');\n",
              "      quickchartButtonEl.style.display =\n",
              "        google.colab.kernel.accessAllowed ? 'block' : 'none';\n",
              "    })();\n",
              "  </script>\n",
              "</div>\n",
              "\n",
              "    </div>\n",
              "  </div>\n"
            ]
          },
          "metadata": {},
          "execution_count": 12
        }
      ]
    },
    {
      "cell_type": "code",
      "source": [
        "Xtrain,Xtest,ytrain,ytest = train_test_split(df.input_vector.values,df.Label_num,test_size=0.2)\n",
        "Xtrain"
      ],
      "metadata": {
        "colab": {
          "base_uri": "https://localhost:8080/"
        },
        "id": "E9IXKyAlMfGS",
        "outputId": "b4f8338f-0aa7-4a73-dc69-ab24f7596535"
      },
      "execution_count": null,
      "outputs": [
        {
          "output_type": "execute_result",
          "data": {
            "text/plain": [
              "array([array([-0.0266079 , -0.17429647, -0.00549946, -0.00606064,  0.08298264,\n",
              "               0.13583769,  0.24346475,  0.08750373,  0.15528688,  0.06104948,\n",
              "              -0.0477397 ,  0.13387357, -0.39377296, -0.00479522, -0.123509  ,\n",
              "              -0.14250179,  0.07540762,  0.11485024, -0.06456365, -0.06656449,\n",
              "              -0.17131059,  0.1804453 ,  0.06097912, -0.14886507, -0.07204901,\n",
              "              -0.04735946,  0.29077366,  0.22955337,  0.17467624,  0.07439783,\n",
              "               0.0850914 , -0.04014431,  0.31792933, -0.03758895,  0.12398849,\n",
              "              -0.11591057,  0.290073  ,  0.07468691, -0.10818044, -0.00478209,\n",
              "              -0.14644231,  0.19597149, -0.00616692, -0.11157613,  0.03629137,\n",
              "              -0.02063044,  0.05976964,  0.13656688,  0.12697598, -0.10613064,\n",
              "              -0.43222544,  0.14263017, -0.01179008, -0.04336899, -0.20357691,\n",
              "              -0.02129413, -0.11090144, -0.20636539,  0.2485439 , -0.10912421,\n",
              "               0.11129042, -0.25402406, -0.02328865, -0.01447558,  0.01259527,\n",
              "              -0.00745423,  0.08327738, -0.1933014 ,  0.16011931,  0.03621009,\n",
              "              -0.01608646,  0.02828397, -0.05120074, -0.18572019,  0.2733389 ,\n",
              "              -0.10707638, -0.09287256, -0.2654115 ,  0.00549752, -0.14019473,\n",
              "              -0.16236518, -0.0867812 , -0.15361819, -0.12855226,  0.02124984,\n",
              "               0.19952041,  0.12617742,  0.15436195, -0.14231737,  0.3471043 ,\n",
              "               0.00354031, -0.0034216 ,  0.4738928 ,  0.19423811, -0.19077216,\n",
              "               0.06436026], dtype=float32)                                    ,\n",
              "       array([-0.1245046 , -0.22502744, -0.06266848, -0.0113175 , -0.08717606,\n",
              "               0.03084519,  0.31670323,  0.0926256 ,  0.19458911,  0.16048649,\n",
              "               0.19548127,  0.16824551, -0.34402284, -0.01642847, -0.25860605,\n",
              "              -0.22079878, -0.04467363, -0.14202522,  0.02784809, -0.07784992,\n",
              "              -0.17924282,  0.23071706, -0.10091966, -0.37149644, -0.09333232,\n",
              "              -0.0802259 ,  0.23986347,  0.18480255, -0.01278357,  0.22189263,\n",
              "               0.06357856, -0.09815054,  0.2828206 ,  0.03211369,  0.03289582,\n",
              "              -0.05723825,  0.09608712, -0.07605401, -0.03954845, -0.02900437,\n",
              "               0.02264901,  0.14697102,  0.02348173,  0.04943438, -0.07751823,\n",
              "              -0.05738733,  0.3201101 ,  0.1820954 ,  0.13352539,  0.01960693,\n",
              "              -0.41393915, -0.03774922,  0.07949195, -0.04399505,  0.03957403,\n",
              "              -0.12550303,  0.12544481, -0.09749351,  0.28502706, -0.05382666,\n",
              "               0.13096507, -0.19420247,  0.00652908,  0.126109  ,  0.057512  ,\n",
              "               0.09607372,  0.03967242, -0.29790393,  0.03574585,  0.19130996,\n",
              "               0.09257258,  0.02233692,  0.00216011, -0.24020797,  0.09705058,\n",
              "              -0.02483677, -0.09559659, -0.2414078 , -0.08630854, -0.11130638,\n",
              "              -0.16713452, -0.05423751, -0.39800277,  0.05664448,  0.21490772,\n",
              "               0.23877695,  0.10951773,  0.08409324, -0.18928602,  0.33433294,\n",
              "               0.16060741, -0.253797  ,  0.422168  ,  0.21006167, -0.20955858,\n",
              "               0.1468478 ], dtype=float32)                                    ,\n",
              "       array([-0.03856613, -0.36749518, -0.03765359,  0.05850071, -0.04774523,\n",
              "               0.17945294,  0.24929222,  0.16160929,  0.12975328,  0.22881155,\n",
              "               0.0008105 ,  0.13318346, -0.34080955, -0.14847733, -0.12217592,\n",
              "              -0.09051462, -0.05672092,  0.03625455,  0.01237508, -0.03733679,\n",
              "              -0.13545465,  0.18977   , -0.09401574, -0.2961823 ,  0.04441537,\n",
              "              -0.04000755,  0.42195663,  0.26924244,  0.16135119,  0.20736733,\n",
              "              -0.11756802, -0.14219475,  0.21740404, -0.01794359,  0.0017986 ,\n",
              "              -0.1810117 ,  0.12982062,  0.00732891, -0.06864326, -0.04730411,\n",
              "              -0.19482723,  0.08695264, -0.13013712,  0.06935329,  0.08145949,\n",
              "               0.03551717,  0.08452813,  0.11363366,  0.16971725, -0.00078564,\n",
              "              -0.40338644,  0.07861774,  0.01393218, -0.20380539, -0.14078905,\n",
              "               0.04753745, -0.03000077,  0.02981897,  0.0743968 , -0.07876086,\n",
              "               0.01186808, -0.3322699 , -0.03811807, -0.07133304,  0.09567595,\n",
              "              -0.1162928 ,  0.1850791 , -0.1267074 ,  0.14954653,  0.21863185,\n",
              "               0.02468852,  0.12990773,  0.07476682, -0.07156888, -0.05916355,\n",
              "              -0.2320105 , -0.21244304, -0.27477407, -0.04008208, -0.11637462,\n",
              "              -0.0885086 ,  0.09158974, -0.22620505, -0.10201059,  0.08175666,\n",
              "               0.14176565,  0.13038121,  0.06803948, -0.38591796,  0.3622731 ,\n",
              "               0.0368781 , -0.0805505 ,  0.51814467,  0.26654565, -0.14577419,\n",
              "               0.12275995], dtype=float32)                                    ,\n",
              "       ...,\n",
              "       array([ 0.0794895 , -0.23974364, -0.0854065 , -0.01603681,  0.11673515,\n",
              "               0.11894853,  0.2261496 ,  0.13872272,  0.1562436 ,  0.17354722,\n",
              "              -0.04051818,  0.11426701, -0.37611786, -0.13855124, -0.16178653,\n",
              "              -0.19365874, -0.09487225,  0.17951146,  0.05765034, -0.03050302,\n",
              "              -0.22998492,  0.11286307, -0.07641043, -0.29579347,  0.04422794,\n",
              "              -0.08187892,  0.42517513,  0.17189895,  0.26400995,  0.16161913,\n",
              "               0.00063513, -0.24317195,  0.25876978, -0.00455454, -0.09295274,\n",
              "              -0.11388383,  0.14179844,  0.08243594, -0.02356122, -0.01249851,\n",
              "              -0.14381155,  0.20588   , -0.11831714,  0.00906312,  0.05223955,\n",
              "               0.09044854,  0.08123177,  0.16902621,  0.1599617 , -0.00956589,\n",
              "              -0.50901383,  0.04477957,  0.19756351, -0.15463372, -0.23041472,\n",
              "               0.1147645 ,  0.09315775,  0.0312792 ,  0.1631758 , -0.15738654,\n",
              "              -0.01816601, -0.4262018 , -0.08597486, -0.06669603,  0.10470332,\n",
              "              -0.05760348,  0.19541517, -0.13429414,  0.02586439,  0.18592075,\n",
              "               0.16070625,  0.18367606,  0.1524431 , -0.175123  , -0.06728183,\n",
              "              -0.22081488, -0.3152335 , -0.35502633, -0.06512232, -0.30969745,\n",
              "              -0.05886078,  0.02518683, -0.26807898, -0.00331637,  0.06012222,\n",
              "               0.05347779,  0.12777685,  0.15350497, -0.3364111 ,  0.2592127 ,\n",
              "              -0.06784488, -0.0499597 ,  0.54053783,  0.26109892, -0.1737497 ,\n",
              "               0.16907512], dtype=float32)                                    ,\n",
              "       array([ 0.03581404, -0.2232053 , -0.096306  ,  0.06002695,  0.05819681,\n",
              "               0.12418696,  0.3074596 ,  0.13731557,  0.09721656,  0.2597127 ,\n",
              "              -0.02933517,  0.1635307 , -0.3712288 , -0.23170179, -0.17773846,\n",
              "              -0.10809579, -0.092053  ,  0.20732932,  0.06375486,  0.01317595,\n",
              "              -0.1809007 ,  0.05606822, -0.00711581, -0.25397092,  0.04554927,\n",
              "              -0.03666593,  0.3595797 ,  0.2818523 ,  0.25598577,  0.13332886,\n",
              "               0.01365342, -0.25453654,  0.27128762, -0.00656996, -0.14255857,\n",
              "              -0.14165811,  0.09159151,  0.04282103, -0.05813493, -0.05556915,\n",
              "              -0.1061669 ,  0.19642375, -0.06645428,  0.04843051,  0.06078342,\n",
              "               0.0858147 ,  0.03940473,  0.20298028,  0.13705783, -0.03289735,\n",
              "              -0.46743712,  0.0545731 ,  0.1879824 , -0.18445563, -0.19422738,\n",
              "               0.03137553,  0.13833424, -0.06088034,  0.21058851, -0.11539347,\n",
              "               0.08327012, -0.41093284, -0.0393663 , -0.05010945,  0.13448648,\n",
              "              -0.08805882,  0.1787924 , -0.11903942,  0.15039198,  0.16647017,\n",
              "               0.17228033,  0.16433506,  0.11924183, -0.18281254, -0.11310325,\n",
              "              -0.22606169, -0.33587205, -0.36670947, -0.1730849 , -0.21662897,\n",
              "              -0.1208109 ,  0.08744232, -0.23095168, -0.12109385, -0.00479083,\n",
              "               0.12189473,  0.09300176,  0.11681067, -0.37849182,  0.25216398,\n",
              "              -0.06234972, -0.13262112,  0.6195495 ,  0.22133763, -0.1278147 ,\n",
              "               0.17503081], dtype=float32)                                    ,\n",
              "       array([ 6.76442161e-02, -1.73101991e-01, -1.19932972e-01,  3.40680629e-02,\n",
              "               1.20999709e-01,  5.49350344e-02,  2.73728311e-01,  9.27272812e-02,\n",
              "               1.45571977e-01,  1.90879732e-01,  2.99097113e-02,  9.38556418e-02,\n",
              "              -3.77333373e-01, -1.79630920e-01, -1.69864580e-01, -2.43533522e-01,\n",
              "              -8.99949968e-02,  2.25935951e-01,  1.28390700e-01, -3.70679498e-02,\n",
              "              -1.49128482e-01,  1.07084271e-02,  7.62456879e-02, -2.64133632e-01,\n",
              "               1.12670295e-01, -1.59900747e-02,  4.18736041e-01,  9.84739661e-02,\n",
              "               2.09520698e-01,  1.15369536e-01, -1.20972538e-04, -1.83452696e-01,\n",
              "               3.15339267e-01, -3.35265771e-02, -7.66659603e-02, -8.77601653e-02,\n",
              "               1.70533612e-01,  9.23038796e-02, -9.63799655e-02, -5.11788577e-02,\n",
              "              -2.22309455e-01,  1.90290615e-01, -1.26322344e-01,  5.05566150e-02,\n",
              "               3.32954302e-02,  1.69797212e-01,  6.58856034e-02,  1.91338778e-01,\n",
              "               8.32092986e-02, -9.15515870e-02, -4.77966845e-01,  8.14982727e-02,\n",
              "               1.83949456e-01, -1.68331966e-01, -1.69671685e-01,  1.25734910e-01,\n",
              "              -6.04693741e-02, -2.11008172e-02,  2.48301655e-01, -1.87660754e-01,\n",
              "               3.72929871e-02, -3.93753499e-01, -1.03466608e-01,  2.10291632e-02,\n",
              "               1.43101037e-01, -4.53980006e-02,  1.55497178e-01, -1.04062483e-01,\n",
              "              -1.85613129e-02,  1.68838799e-01,  2.01618850e-01,  1.50987789e-01,\n",
              "               2.75804829e-02, -1.96965277e-01, -8.89564529e-02, -1.66044757e-01,\n",
              "              -3.01371217e-01, -2.90179282e-01, -8.55233297e-02, -3.22504014e-01,\n",
              "              -1.17030770e-01,  6.46980703e-02, -3.80371004e-01, -9.61466730e-02,\n",
              "               6.68857470e-02,  1.81649595e-01,  1.15879498e-01,  1.64197028e-01,\n",
              "              -3.01169127e-01,  2.34055802e-01, -2.23717038e-02, -1.01508938e-01,\n",
              "               5.23130417e-01,  2.38382310e-01, -9.82895941e-02,  1.01931810e-01],\n",
              "             dtype=float32)                                                       ],\n",
              "      dtype=object)"
            ]
          },
          "metadata": {},
          "execution_count": 19
        }
      ]
    },
    {
      "cell_type": "markdown",
      "source": [
        "In here the data is arranged in such a way that everything is a numpy array inside a numpy array so we need to convert them to a 2-dimensional array"
      ],
      "metadata": {
        "id": "IuZmjIfhNxfN"
      }
    },
    {
      "cell_type": "code",
      "source": [
        "Xtrain_2d = np.stack(Xtrain)\n",
        "Xtest_2d = np.stack(Xtest)\n",
        "Xtrain_2d"
      ],
      "metadata": {
        "colab": {
          "base_uri": "https://localhost:8080/"
        },
        "id": "EkVHhzh-M9Ni",
        "outputId": "bf0cc22f-b187-43af-e9ed-7ab4120eb01b"
      },
      "execution_count": null,
      "outputs": [
        {
          "output_type": "execute_result",
          "data": {
            "text/plain": [
              "array([[-0.0266079 , -0.17429647, -0.00549946, ...,  0.19423811,\n",
              "        -0.19077216,  0.06436026],\n",
              "       [-0.1245046 , -0.22502744, -0.06266848, ...,  0.21006167,\n",
              "        -0.20955858,  0.1468478 ],\n",
              "       [-0.03856613, -0.36749518, -0.03765359, ...,  0.26654565,\n",
              "        -0.14577419,  0.12275995],\n",
              "       ...,\n",
              "       [ 0.0794895 , -0.23974364, -0.0854065 , ...,  0.26109892,\n",
              "        -0.1737497 ,  0.16907512],\n",
              "       [ 0.03581404, -0.2232053 , -0.096306  , ...,  0.22133763,\n",
              "        -0.1278147 ,  0.17503081],\n",
              "       [ 0.06764422, -0.17310199, -0.11993297, ...,  0.23838231,\n",
              "        -0.09828959,  0.10193181]], dtype=float32)"
            ]
          },
          "metadata": {},
          "execution_count": 25
        }
      ]
    },
    {
      "cell_type": "markdown",
      "source": [
        "we are using a naive bayes classifier\n",
        "naive bayes will not work if vector has negative numbers so we will scale the vector"
      ],
      "metadata": {
        "id": "TqbQNZV0OquL"
      }
    },
    {
      "cell_type": "code",
      "source": [
        "scaler = MinMaxScaler()\n",
        "\n",
        "Xtrain_scaled = scaler.fit_transform(Xtrain_2d)\n",
        "Xtest_scaled = scaler.transform(Xtest_2d)"
      ],
      "metadata": {
        "id": "yihi2j_ROLmC"
      },
      "execution_count": null,
      "outputs": []
    },
    {
      "cell_type": "markdown",
      "source": [
        "# Naive Bayes Model:\n",
        "Naive Bayes is a simple and probabilistic classification algorithm based on Bayes' theorem. It is a supervised machine learning algorithm commonly used for classification tasks, such as spam filtering, sentiment analysis, and document categorization\n",
        "\n",
        "# Naive Assumption:\n",
        "The \"naive\" part of Naive Bayes comes from the assumption that features are conditionally independent given the class label. This means that the presence or absence of a particular feature does not affect the presence or absence of any other feature. While this assumption is often not true in practice, it simplifies the model and makes it computationally efficient"
      ],
      "metadata": {
        "id": "k1pzGl1MPzcL"
      }
    },
    {
      "cell_type": "code",
      "source": [
        "model = MultinomialNB()\n"
      ],
      "metadata": {
        "id": "RIvLnNMNPjvB"
      },
      "execution_count": null,
      "outputs": []
    },
    {
      "cell_type": "markdown",
      "source": [
        "Lets train the model"
      ],
      "metadata": {
        "id": "nyk-c88KRHwI"
      }
    },
    {
      "cell_type": "code",
      "source": [
        "model.fit(Xtrain_scaled,ytrain)"
      ],
      "metadata": {
        "colab": {
          "base_uri": "https://localhost:8080/",
          "height": 74
        },
        "id": "gUOZeBqFRLTd",
        "outputId": "4d97be85-9c34-4b6c-92d6-e9b80621444e"
      },
      "execution_count": null,
      "outputs": [
        {
          "output_type": "execute_result",
          "data": {
            "text/plain": [
              "MultinomialNB()"
            ],
            "text/html": [
              "<style>#sk-container-id-1 {color: black;background-color: white;}#sk-container-id-1 pre{padding: 0;}#sk-container-id-1 div.sk-toggleable {background-color: white;}#sk-container-id-1 label.sk-toggleable__label {cursor: pointer;display: block;width: 100%;margin-bottom: 0;padding: 0.3em;box-sizing: border-box;text-align: center;}#sk-container-id-1 label.sk-toggleable__label-arrow:before {content: \"▸\";float: left;margin-right: 0.25em;color: #696969;}#sk-container-id-1 label.sk-toggleable__label-arrow:hover:before {color: black;}#sk-container-id-1 div.sk-estimator:hover label.sk-toggleable__label-arrow:before {color: black;}#sk-container-id-1 div.sk-toggleable__content {max-height: 0;max-width: 0;overflow: hidden;text-align: left;background-color: #f0f8ff;}#sk-container-id-1 div.sk-toggleable__content pre {margin: 0.2em;color: black;border-radius: 0.25em;background-color: #f0f8ff;}#sk-container-id-1 input.sk-toggleable__control:checked~div.sk-toggleable__content {max-height: 200px;max-width: 100%;overflow: auto;}#sk-container-id-1 input.sk-toggleable__control:checked~label.sk-toggleable__label-arrow:before {content: \"▾\";}#sk-container-id-1 div.sk-estimator input.sk-toggleable__control:checked~label.sk-toggleable__label {background-color: #d4ebff;}#sk-container-id-1 div.sk-label input.sk-toggleable__control:checked~label.sk-toggleable__label {background-color: #d4ebff;}#sk-container-id-1 input.sk-hidden--visually {border: 0;clip: rect(1px 1px 1px 1px);clip: rect(1px, 1px, 1px, 1px);height: 1px;margin: -1px;overflow: hidden;padding: 0;position: absolute;width: 1px;}#sk-container-id-1 div.sk-estimator {font-family: monospace;background-color: #f0f8ff;border: 1px dotted black;border-radius: 0.25em;box-sizing: border-box;margin-bottom: 0.5em;}#sk-container-id-1 div.sk-estimator:hover {background-color: #d4ebff;}#sk-container-id-1 div.sk-parallel-item::after {content: \"\";width: 100%;border-bottom: 1px solid gray;flex-grow: 1;}#sk-container-id-1 div.sk-label:hover label.sk-toggleable__label {background-color: #d4ebff;}#sk-container-id-1 div.sk-serial::before {content: \"\";position: absolute;border-left: 1px solid gray;box-sizing: border-box;top: 0;bottom: 0;left: 50%;z-index: 0;}#sk-container-id-1 div.sk-serial {display: flex;flex-direction: column;align-items: center;background-color: white;padding-right: 0.2em;padding-left: 0.2em;position: relative;}#sk-container-id-1 div.sk-item {position: relative;z-index: 1;}#sk-container-id-1 div.sk-parallel {display: flex;align-items: stretch;justify-content: center;background-color: white;position: relative;}#sk-container-id-1 div.sk-item::before, #sk-container-id-1 div.sk-parallel-item::before {content: \"\";position: absolute;border-left: 1px solid gray;box-sizing: border-box;top: 0;bottom: 0;left: 50%;z-index: -1;}#sk-container-id-1 div.sk-parallel-item {display: flex;flex-direction: column;z-index: 1;position: relative;background-color: white;}#sk-container-id-1 div.sk-parallel-item:first-child::after {align-self: flex-end;width: 50%;}#sk-container-id-1 div.sk-parallel-item:last-child::after {align-self: flex-start;width: 50%;}#sk-container-id-1 div.sk-parallel-item:only-child::after {width: 0;}#sk-container-id-1 div.sk-dashed-wrapped {border: 1px dashed gray;margin: 0 0.4em 0.5em 0.4em;box-sizing: border-box;padding-bottom: 0.4em;background-color: white;}#sk-container-id-1 div.sk-label label {font-family: monospace;font-weight: bold;display: inline-block;line-height: 1.2em;}#sk-container-id-1 div.sk-label-container {text-align: center;}#sk-container-id-1 div.sk-container {/* jupyter's `normalize.less` sets `[hidden] { display: none; }` but bootstrap.min.css set `[hidden] { display: none !important; }` so we also need the `!important` here to be able to override the default hidden behavior on the sphinx rendered scikit-learn.org. See: https://github.com/scikit-learn/scikit-learn/issues/21755 */display: inline-block !important;position: relative;}#sk-container-id-1 div.sk-text-repr-fallback {display: none;}</style><div id=\"sk-container-id-1\" class=\"sk-top-container\"><div class=\"sk-text-repr-fallback\"><pre>MultinomialNB()</pre><b>In a Jupyter environment, please rerun this cell to show the HTML representation or trust the notebook. <br />On GitHub, the HTML representation is unable to render, please try loading this page with nbviewer.org.</b></div><div class=\"sk-container\" hidden><div class=\"sk-item\"><div class=\"sk-estimator sk-toggleable\"><input class=\"sk-toggleable__control sk-hidden--visually\" id=\"sk-estimator-id-1\" type=\"checkbox\" checked><label for=\"sk-estimator-id-1\" class=\"sk-toggleable__label sk-toggleable__label-arrow\">MultinomialNB</label><div class=\"sk-toggleable__content\"><pre>MultinomialNB()</pre></div></div></div></div></div>"
            ]
          },
          "metadata": {},
          "execution_count": 28
        }
      ]
    },
    {
      "cell_type": "markdown",
      "source": [
        "Lets predict"
      ],
      "metadata": {
        "id": "9-e2wBwMROv8"
      }
    },
    {
      "cell_type": "code",
      "source": [
        "y_pred = model.predict(Xtest_scaled)"
      ],
      "metadata": {
        "id": "Exoe3IojRNKA"
      },
      "execution_count": null,
      "outputs": []
    },
    {
      "cell_type": "markdown",
      "source": [
        "lets evaluate the matrix"
      ],
      "metadata": {
        "id": "acLzS3ldRc7a"
      }
    },
    {
      "cell_type": "code",
      "source": [
        "report = classification_report(ytest,y_pred)\n",
        "print(report)"
      ],
      "metadata": {
        "colab": {
          "base_uri": "https://localhost:8080/"
        },
        "id": "wrnS36XFRT34",
        "outputId": "b7fb6827-a25a-4e18-98b0-63ab3675bdb7"
      },
      "execution_count": null,
      "outputs": [
        {
          "output_type": "stream",
          "name": "stdout",
          "text": [
            "              precision    recall  f1-score   support\n",
            "\n",
            "           0       0.94      0.94      0.94      1020\n",
            "           1       0.93      0.93      0.93       960\n",
            "\n",
            "    accuracy                           0.93      1980\n",
            "   macro avg       0.93      0.93      0.93      1980\n",
            "weighted avg       0.93      0.93      0.93      1980\n",
            "\n"
          ]
        }
      ]
    },
    {
      "cell_type": "markdown",
      "source": [
        "Wow accuracy is 0.93 which is 93%"
      ],
      "metadata": {
        "id": "-vMhciLeRyRW"
      }
    },
    {
      "cell_type": "code",
      "source": [
        "label = {\n",
        "    1:'real',\n",
        "    0:'fake'\n",
        "}"
      ],
      "metadata": {
        "id": "JqilshWlTknw"
      },
      "execution_count": null,
      "outputs": []
    },
    {
      "cell_type": "code",
      "source": [
        "def prediction(text):\n",
        "    input_vector = nlp(text).vector\n",
        "    input_vector = input_vector.reshape(1, -1)\n",
        "    scaled_vector = scaler.transform(input_vector)\n",
        "    pred = model.predict(scaled_vector)\n",
        "    return label[pred.item()]"
      ],
      "metadata": {
        "id": "gmh9bY8SRp9i"
      },
      "execution_count": null,
      "outputs": []
    },
    {
      "cell_type": "code",
      "source": [
        "prediction(\"Americans, but prompting criticism that the plan favors business and the rich and could add trillions of dollars to the deficit. The proposal drew a swift, skeptical response from Senator Bob Corker, a leading\")"
      ],
      "metadata": {
        "colab": {
          "base_uri": "https://localhost:8080/",
          "height": 35
        },
        "id": "A3ID9Ql4SXpO",
        "outputId": "d6047209-0928-4613-8d59-fc9b2f466ee8"
      },
      "execution_count": null,
      "outputs": [
        {
          "output_type": "execute_result",
          "data": {
            "text/plain": [
              "'real'"
            ],
            "application/vnd.google.colaboratory.intrinsic+json": {
              "type": "string"
            }
          },
          "metadata": {},
          "execution_count": 54
        }
      ]
    },
    {
      "cell_type": "code",
      "source": [
        "prediction(\"Trump Falls Flat On His Face In Israel, Doesnâ€™t Know Heâ€™s In The Middle East (VIDEO) Donald Trump has made a habit of embarrassing America in front of other world leaders, but on Monday he outdid himself.Kicking the week off, Trump outed Israel for being the source of intelligence information that he d given to Russia   a move that disgusted Israeli Prime Minister Benjamin Netanyahu. However, he was far from done ruining America s reputation. As he spoke in Israel, Trump stated that he d just gotten back from the Middle East, completely oblivious to the fact that Israel is actually IN the Middle East. Trump said: Our Secretary of State has done a great job. We just got back from the Middle East, Saudi Arabia, and we were treated incredibly well. It s almost too ridiculous to be true, but then again, what else can we expect from Trump? You can watch the incident below, and pay attention to the reaction of Israeli Ambassador Ron Dermer, who tries to disguise a very obvious facepalm by running his fingers through his hair.Oh man, watch Israeli ambassador Ron Dermer (on right couch) react when Trump says in Israel We just got back from the Middle East.  pic.twitter.com/x7nb4uvqpR  (((Yair Rosenberg))) (@Yair_Rosenberg) May 22, 2017It doesn t get much more humiliating than this. Already, the White House has had to defend several of Trump s mistakes during his international tour, citing  exhaustion  as the primary excuse for his pathetic performance (it s only been a few days). However, we all know that Trump is actually THAT dumb and doesn t know anything about other countries or how the world works.One can only imagine how hard everyone in the room had to concentrate to avoid correcting or laughing at Trump after such an insane f*ckup. Trump has proven, once again, that America s current president is a joke, and no one can take him seriously.Featured image via screen capture from embedded video \")"
      ],
      "metadata": {
        "colab": {
          "base_uri": "https://localhost:8080/",
          "height": 35
        },
        "id": "yMfc2t-QT6wZ",
        "outputId": "b168e1ce-db15-4fe5-cc40-c31218ce1f13"
      },
      "execution_count": null,
      "outputs": [
        {
          "output_type": "execute_result",
          "data": {
            "text/plain": [
              "'fake'"
            ],
            "application/vnd.google.colaboratory.intrinsic+json": {
              "type": "string"
            }
          },
          "metadata": {},
          "execution_count": 55
        }
      ]
    },
    {
      "cell_type": "code",
      "source": [],
      "metadata": {
        "id": "LhKA7HxvSrlI"
      },
      "execution_count": null,
      "outputs": []
    }
  ]
}